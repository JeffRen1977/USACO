{
  "nbformat": 4,
  "nbformat_minor": 0,
  "metadata": {
    "colab": {
      "provenance": [],
      "toc_visible": true,
      "authorship_tag": "ABX9TyM77JGsVhL94uOyWS54DyHM",
      "include_colab_link": true
    },
    "kernelspec": {
      "name": "python3",
      "display_name": "Python 3"
    },
    "language_info": {
      "name": "python"
    }
  },
  "cells": [
    {
      "cell_type": "markdown",
      "metadata": {
        "id": "view-in-github",
        "colab_type": "text"
      },
      "source": [
        "<a href=\"https://colab.research.google.com/github/JeffRen1977/USACO/blob/main/USACO_2019_Bronze.ipynb\" target=\"_parent\"><img src=\"https://colab.research.google.com/assets/colab-badge.svg\" alt=\"Open In Colab\"/></a>"
      ]
    },
    {
      "cell_type": "markdown",
      "source": [],
      "metadata": {
        "id": "8a5ZcrLMUH_Q"
      }
    },
    {
      "cell_type": "markdown",
      "source": [
        "# USACO 2019 Jan Bronze: Problem one [Shell Game](http://www.usaco.org/index.php?page=viewproblem2&cpid=891&lang=en)\n",
        "\n",
        " To pass the time, Bessie the cow and her friend Elsie like to play a version of a game they saw at the county fair.\n",
        "\n",
        "To start, Bessie puts three inverted shells on a table and places a small round pebble under one of them (at least she hopes it is a pebble -- she found it on the ground in one of the pastures). Bessie then proceeds to swap pairs of shells, while Elsie tries to guess the location of the pebble.\n",
        "\n",
        "The standard version of the game the cows saw being played at the county fair allowed the player to see the initial location of the pebble, and then required guessing its final location after all the swaps were complete.\n",
        "\n",
        "However, the cows like to play a version where Elsie does not know the initial location of the pebble, and where she can guess the pebble location after every swap. Bessie, knowing the right answer, gives Elsie a score at the end equal to the number of correct guesses she made.\n",
        "\n",
        "Given the swaps and the guesses, but not the initial pebble location, please determine the highest possible score Elsie could have earned.\n",
        "\n",
        "***INPUT FORMAT (file shell.in):***\n",
        "\n",
        "The first line of the input file contains an integer N giving the number of swaps (1≤N≤100). Each of the next N lines describes a step of the game and contains three integers a, b, and g, indicating that shells a and b were swapped by Bessie, and then Elsie guessed shell g after the swap was made. All three of these integers are either 1, 2, or 3, and a≠b.\n",
        "\n",
        "***OUTPUT FORMAT (file shell.out):***\n",
        "\n",
        "Please output the maximum number of points Elsie could have earned.\n",
        "\n",
        "**SAMPLE INPUT:**\n",
        "\n",
        "3\n",
        "\n",
        "1 2 1\n",
        "\n",
        "3 2 1\n",
        "\n",
        "1 3 1\n",
        "\n",
        "**SAMPLE OUTPUT:**\n",
        "\n",
        "2\n",
        "\n",
        "In this example, Elsie could have earned at most 2 points. If the pebble started under shell 1, then she guesses right exactly once (her final guess). If the pebble started under shell 2, then she guesses right twice (the first two guesses). If the pebble started under shell 3, then she doesn't make any correct guesses.\n",
        "\n",
        "Problem credits: Brian Dean"
      ],
      "metadata": {
        "id": "LKy4jAcx99Gr"
      }
    },
    {
      "cell_type": "markdown",
      "source": [
        "## solution\n",
        "We can simulate the process. Store an array that keeps track of which shell is at which location, and Bessie's swapping can be simulated by swapping elements in the array. Then, we can count how many times Elsie guesses each shell, and the maximum points she can earn is the maximum amount of times a shell is guessed."
      ],
      "metadata": {
        "id": "8TWGkhxqEcuP"
      }
    },
    {
      "cell_type": "code",
      "execution_count": 8,
      "metadata": {
        "id": "RWSJpsyKqHjH",
        "colab": {
          "base_uri": "https://localhost:8080/"
        },
        "outputId": "3a3ad0ea-dcfe-443b-e238-db0c555df1b7"
      },
      "outputs": [
        {
          "output_type": "stream",
          "name": "stdout",
          "text": [
            "Drive already mounted at /content/drive; to attempt to forcibly remount, call drive.mount(\"/content/drive\", force_remount=True).\n",
            "opened the google driver\n"
          ]
        }
      ],
      "source": [
        "from google.colab import drive\n",
        "drive.mount('/content/drive')\n",
        "print(\"opened the google driver\")"
      ]
    },
    {
      "cell_type": "markdown",
      "source": [
        "in next section, I will working on the solution\n"
      ],
      "metadata": {
        "id": "Rf97W2-7wEKh"
      }
    },
    {
      "cell_type": "code",
      "source": [
        "print(\"hello\")"
      ],
      "metadata": {
        "id": "wAucgpA6wLe9",
        "outputId": "35815b79-4594-43a9-f8db-bde9224f57a2",
        "colab": {
          "base_uri": "https://localhost:8080/"
        }
      },
      "execution_count": null,
      "outputs": [
        {
          "output_type": "stream",
          "name": "stdout",
          "text": [
            "hello\n"
          ]
        }
      ]
    },
    {
      "cell_type": "code",
      "source": [
        "\n",
        "read = open(\"/content/drive/My Drive/Colab Notebooks/Files/shell.in\")\n",
        "n = int(read.readline())\n",
        "\n",
        "# shell_at_pos[i] stores the label of the shell located at position i\n",
        "# The shells can be placed arbitrarily at the start.\n",
        "shell_at_pos = [i for i in range(3)]\n",
        "print(shell_at_pos)\n",
        "\n",
        "# counter[i] stores the number of times the shell with label i was picked\n",
        "counter = [0 for _ in range(3)]\n",
        "print(counter)\n",
        "\n",
        "for _ in range(n):\n",
        "\t# Zero indexing: offset all positions by 1\n",
        "\ta, b, g = [int(i) - 1 for i in read.readline().split()]\n",
        "\n",
        "\t# Perform Bessie's swapping operation\n",
        "\tshell_at_pos[a], shell_at_pos[b] = shell_at_pos[b], shell_at_pos[a]\n",
        "\n",
        "\t# Count the number of times Elsie guesses each particular shell\n",
        "\tcounter[shell_at_pos[g]] += 1\n",
        "\n",
        "print(max(counter))\n",
        "print(max(counter), file=open(\"shell.out\", \"w\"))"
      ],
      "metadata": {
        "id": "Rg4KGZ-iEkPf"
      },
      "execution_count": null,
      "outputs": []
    },
    {
      "cell_type": "markdown",
      "source": [
        "# USACO 2018 December Contest, Bronze, Problem 1. [Mixing Milk](http://www.usaco.org/index.php?page=viewproblem2&cpid=855)\n",
        "\n",
        "Farming is competitive business -- particularly milk production. Farmer John figures that if he doesn't innovate in his milk production methods, his dairy business could get creamed!\n",
        "\n",
        "Fortunately, Farmer John has a good idea. His three prize dairy cows Bessie, Elsie, and Mildred each produce milk with a slightly different taste, and he plans to mix these together to get the perfect blend of flavors.\n",
        "\n",
        "To mix the three different milks, he takes three buckets containing milk from the three cows. The buckets may have different sizes, and may not be completely full. He then pours bucket 1 into bucket 2, then bucket 2 into bucket 3, then bucket 3 into bucket 1, then bucket 1 into bucket 2, and so on in a cyclic fashion, for a total of 100 pour operations (so the 100th pour would be from bucket 1 into bucket 2). When Farmer John pours from bucket a into bucket b, he pours as much milk as possible until either bucket a becomes empty or bucket b becomes full.\n",
        "\n",
        "Please tell Farmer John how much milk will be in each bucket after he finishes all 100 pours.\n",
        "\n",
        "**INPUT FORMAT (file mixmilk.in):**\n",
        "\n",
        "The first line of the input file contains two space-separated integers: the capacity c1 of the first bucket, and the amount of milk m1 in the first bucket. Both c1 and m1 are positive and at most 1 billion, with c1≥m1. The second and third lines are similar, containing capacities and milk amounts for the second and third buckets.\n",
        "\n",
        "**OUTPUT FORMAT (file mixmilk.out):**\n",
        "Please print three lines of output, giving the final amount of milk in each bucket, after 100 pour operations.\n",
        "\n",
        "***SAMPLE INPUT:***\n",
        "\n",
        "10 3\n",
        "\n",
        "11 4\n",
        "\n",
        "12 5\n",
        "\n",
        "SAMPLE OUTPUT:\n",
        "\n",
        "0\n",
        "\n",
        "10\n",
        "\n",
        "2\n",
        "\n",
        "In this example, the milk in each bucket is as follows during the sequence of pours:\n",
        "\n",
        "Initial State:\n",
        "3  4  5\n",
        "1. Pour 1->2:  0  7  5\n",
        "2. Pour 2->3:  0  0  12\n",
        "3. Pour 3->1:  10 0  2\n",
        "4. Pour 1->2:  0  10 2\n",
        "5. Pour 2->3:  0  0  12\n",
        "(The last three states then repeat in a cycle ...)\n",
        "\n",
        "Problem credits: Brian Dean"
      ],
      "metadata": {
        "id": "QVWD6j9tGw6o"
      }
    },
    {
      "cell_type": "markdown",
      "source": [
        "## solution\n",
        "   there are many [different solutions](https://usaco.guide/problem-solutions/) for the users. here I only pick one solution for the references"
      ],
      "metadata": {
        "id": "FGhQ6nCiN__x"
      }
    },
    {
      "cell_type": "code",
      "source": [
        "import sys\n",
        "\n",
        "input = open(\"/content/drive/My Drive/Colab Notebooks/Files/milk.in\", \"r\")\n",
        "out = open(\"/content/drive/My Drive/Colab Notebooks/Files/mixmilk.out\", \"w\")\n",
        "\n",
        "c1,m1 = [int(x) for x  in input.readline().split()]\n",
        "c2,m2 = [int(x) for x  in input.readline().split()]\n",
        "c3,m3 = [int(x) for x  in input.readline().split()]\n",
        "milk = [m1, m2, m3]\n",
        "capacity = [c1, c2, c3]\n",
        "\n",
        "for op in range(100):\n",
        "    transfer = min(milk[op % 3], capacity[(op + 1) % 3] - milk[(op + 1) % 3])\n",
        "    milk[op % 3], milk[(op + 1) % 3] = milk[op % 3] - transfer, milk[(op + 1) % 3] + transfer\n",
        "print(*milk, sep=\"\\n\")"
      ],
      "metadata": {
        "id": "luEqxP3XJJpi",
        "colab": {
          "base_uri": "https://localhost:8080/"
        },
        "outputId": "fc941769-ee84-429b-c161-e386e27516ae"
      },
      "execution_count": null,
      "outputs": [
        {
          "output_type": "stream",
          "name": "stdout",
          "text": [
            "0\n",
            "10\n",
            "2\n"
          ]
        }
      ]
    },
    {
      "cell_type": "markdown",
      "source": [
        "# USACO 2016 December Contest, Bronze Problem 3. [The Cow-Signal](http://www.usaco.org/index.php?page=viewproblem2&cpid=665)\n",
        "\n",
        "Bessie and her cow friends are playing as their favorite cow superheroes. Of course, everyone knows that any self-respecting superhero needs a signal to call them to action. Bessie has drawn a special signal on a sheet of M×N paper (1≤M≤10,1≤N≤10), but this is too small, much too small! Bessie wants to amplify the signal so it is exactly K times bigger (1≤K≤10) in each direction. The signal will consist only of the '.' and 'X' characters.\n",
        "\n",
        "**INPUT FORMAT (file cowsignal.in):**\n",
        "\n",
        "The first line of input contains M, N, and K, separated by spaces.\n",
        "The next M lines each contain a length-N string, collectively describing the picture of the signal.\n",
        "\n",
        "**OUTPUT FORMAT (file cowsignal.out):**\n",
        "\n",
        "You should output KxM lines, each with KxN characters, giving a picture of the enlarged signal.\n",
        "\n",
        "**SAMPLE INPUT:**\n",
        "\n",
        "5 4 2\n",
        "\n",
        "XXX.\n",
        "\n",
        "X..X\n",
        "\n",
        "XXX.\n",
        "\n",
        "X..X\n",
        "\n",
        "XXX.\n",
        "\n",
        "**SAMPLE OUTPUT:**\n",
        "\n",
        "XXXXXX..\n",
        "\n",
        "XXXXXX..\n",
        "\n",
        "XX....XX\n",
        "\n",
        "XX....XX\n",
        "\n",
        "XXXXXX..\n",
        "\n",
        "XXXXXX..\n",
        "\n",
        "XX....XX\n",
        "\n",
        "XX....XX\n",
        "\n",
        "XXXXXX..\n",
        "\n",
        "XXXXXX..\n",
        "\n",
        "Problem credits: Nathan Pinsker"
      ],
      "metadata": {
        "id": "t3p4NwasRUsd"
      }
    },
    {
      "cell_type": "markdown",
      "source": [
        "## solution."
      ],
      "metadata": {
        "id": "Zm1ZLC-YYCeB"
      }
    },
    {
      "cell_type": "code",
      "source": [
        "x = open(\"/content/drive/My Drive/Colab Notebooks/Files/cowsignal.in\",\"r\")\n",
        "y = open(\"/content/drive/My Drive/Colab Notebooks/Files/cowsignal.out\",\"w\")\n",
        "info = x.readline()\n",
        "m,n,k = [int(x) for x in info.split()]\n",
        "print(\"m = {}, n = {} and k = {}\".format(m, n, k))\n",
        "\n",
        "for i in range(m):\n",
        "    line = x.readline()\n",
        "    text = \"\"\n",
        "    for c in line:\n",
        "        z = c * k\n",
        "        text += z\n",
        "    for z in range(k):\n",
        "        print(text.strip())\n",
        "        y.write(text.strip()+\"\\n\")\n",
        "x.close()\n",
        "y.close()\n"
      ],
      "metadata": {
        "id": "PUpmhU8eq78_",
        "colab": {
          "base_uri": "https://localhost:8080/"
        },
        "outputId": "85383764-68f1-4cb7-8089-14a78d5bebef"
      },
      "execution_count": null,
      "outputs": [
        {
          "output_type": "stream",
          "name": "stdout",
          "text": [
            "m = 5, n = 4 and k = 2\n",
            "XXXXXX..\n",
            "XXXXXX..\n",
            "XX....XX\n",
            "XX....XX\n",
            "XXXXXX..\n",
            "XXXXXX..\n",
            "XX....XX\n",
            "XX....XX\n",
            "XXXXXX..\n",
            "XXXXXX..\n"
          ]
        }
      ]
    },
    {
      "cell_type": "markdown",
      "source": [
        "# USACO 2015 December Contest, Bronze Problem 2. Speeding Ticket\n",
        "\n",
        "Always the troublemaker, Bessie the cow has stolen Farmer John's tractor and taken off down the road! The road is exactly 100 miles long, and Bessie drives the entire length of the road before ultimately being pulled over by a police officer, who gives Bessie a ticket for exceeding the speed limit, for having an expired license, and for operating a motor vehicle while being a cow. While Bessie concedes that the last two tickets are probably valid, she questions whether the police officer was correct in issuing the speeding ticket, and she wants to determine for herself if she has indeed driven faster than the speed limit for part of her journey.\n",
        "\n",
        "The road is divided into N segments, each described by a positive integer length in miles, as well as an integer speed limit in the range 1…100 miles per hour. As the road is 100 miles long, the lengths of all N segments add up to 100. For example, the road might start with a segment of length 45 miles, with speed limit 70, and then it might end with a segment of length 55 miles, with speed limit 60.\n",
        "\n",
        "Bessie's journey can also be described by a series of segments, M of them. During each segment, she travels for a certain positive integer number of miles, at a certain integer speed. For example, she might begin by traveling 50 miles at a speed of 65, then another 50 miles at a speed of 55. The lengths of all M segments add to 100 total miles. Farmer John's tractor can drive 100 miles per hour at its fastest.\n",
        "\n",
        "Given the information above, please determine the maximum amount over the speed limit that Bessie travels during any part of her journey.\n",
        "\n",
        "**INPUT FORMAT (file speeding.in):**\n",
        "\n",
        "The first line of the input contains N and M, separated by a space.\n",
        "The next N lines each contain two integers describing a road segment, giving its length and speed limit.\n",
        "\n",
        "The next M lines each contain two integers describing a segment in Bessie's journey, giving the length and also the speed at which Bessie was driving.\n",
        "\n",
        "**OUTPUT FORMAT (file speeding.out):**\n",
        "\n",
        "Please output a single line containing the maximum amount over the speed limit Bessie drove during any part of her journey. If she never exceeds the speed limit, please output 0.\n",
        "\n",
        "*SAMPLE INPUT:*\n",
        "\n",
        "3 3\n",
        "\n",
        "40 75\n",
        "\n",
        "50 35\n",
        "\n",
        "10 45\n",
        "\n",
        "40 76\n",
        "\n",
        "20 30\n",
        "\n",
        "40 40\n",
        "\n",
        "*SAMPLE OUTPUT:*\n",
        "\n",
        "5\n",
        "\n",
        "In this example, the road contains three segments (40 miles at 75 miles per hour, followed by 50 miles at 35 miles per hour, then 10 miles at 45 miles per hour). Bessie drives for three segments (40 miles at 76 miles per hour, 20 miles at 30 miles per hour, and 40 miles at 40 miles per hour). During her first segment, she is slightly over the speed limit, but her last segment is the worst infraction, during part of which she is 5 miles per hour over the speed limit. The correct answer is therefore 5.\n",
        "\n",
        "Problem credits: Austin Bannister and Brian Dean"
      ],
      "metadata": {
        "id": "UVEFTy5zYPut"
      }
    },
    {
      "cell_type": "markdown",
      "source": [
        "##solution, [link](https://usaco.guide/problem-solutions/)\n",
        "**bold text**"
      ],
      "metadata": {
        "id": "O8XxBwzQc8za"
      }
    },
    {
      "cell_type": "code",
      "source": [
        "import sys\n",
        "\n",
        "file_in = open(\"/content/drive/My Drive/Colab Notebooks/Files/speedin.in\")\n",
        "data = file_in.readline()\n",
        "n, m = [int(x) for x in data.split()]\n",
        "print(\"n = {} and m = {}\".format(n,m))\n",
        "seg, bessieSeg = [], []\n",
        "max = 0\n",
        "\n",
        "for _ in range(n):\n",
        "    length, limit = [int(x) for x in file_in.readline().split()]\n",
        "    print(\"length = {} and limit = {}\".format(length,limit))\n",
        "    for i in range(length): seg.append(limit)\n",
        "\n",
        "for _ in range(m):\n",
        "    length, limit = [int(x) for x in file_in.readline().split()]\n",
        "    for i in range(length): bessieSeg.append(limit)\n",
        "\n",
        "print(seg)\n",
        "\n",
        "print(bessieSeg)\n",
        "\n",
        "for i in range(100):\n",
        "    if bessieSeg[i] - seg[i] > max:\n",
        "      max = bessieSeg[i] - seg[i]\n",
        "\n",
        "print(max)\n",
        "# Add the answer to the output file using python standard file I/O system\n",
        "file_out = open(\"/content/drive/My Drive/Colab Notebooks/Files/speedout.out\", \"w\")\n",
        "file_out.write(str(max))\n",
        "file_out.close()"
      ],
      "metadata": {
        "id": "DxUp8stZc_k3",
        "colab": {
          "base_uri": "https://localhost:8080/"
        },
        "outputId": "e69c3220-ffa8-4f6f-e782-1d3ab41815ee"
      },
      "execution_count": 7,
      "outputs": [
        {
          "output_type": "stream",
          "name": "stdout",
          "text": [
            "n = 3 and m = 3\n",
            "length = 40 and limit = 75\n",
            "length = 50 and limit = 35\n",
            "length = 10 and limit = 45\n",
            "[75, 75, 75, 75, 75, 75, 75, 75, 75, 75, 75, 75, 75, 75, 75, 75, 75, 75, 75, 75, 75, 75, 75, 75, 75, 75, 75, 75, 75, 75, 75, 75, 75, 75, 75, 75, 75, 75, 75, 75, 35, 35, 35, 35, 35, 35, 35, 35, 35, 35, 35, 35, 35, 35, 35, 35, 35, 35, 35, 35, 35, 35, 35, 35, 35, 35, 35, 35, 35, 35, 35, 35, 35, 35, 35, 35, 35, 35, 35, 35, 35, 35, 35, 35, 35, 35, 35, 35, 35, 35, 45, 45, 45, 45, 45, 45, 45, 45, 45, 45]\n",
            "[76, 76, 76, 76, 76, 76, 76, 76, 76, 76, 76, 76, 76, 76, 76, 76, 76, 76, 76, 76, 76, 76, 76, 76, 76, 76, 76, 76, 76, 76, 76, 76, 76, 76, 76, 76, 76, 76, 76, 76, 30, 30, 30, 30, 30, 30, 30, 30, 30, 30, 30, 30, 30, 30, 30, 30, 30, 30, 30, 30, 40, 40, 40, 40, 40, 40, 40, 40, 40, 40, 40, 40, 40, 40, 40, 40, 40, 40, 40, 40, 40, 40, 40, 40, 40, 40, 40, 40, 40, 40, 40, 40, 40, 40, 40, 40, 40, 40, 40, 40]\n",
            "5\n"
          ]
        }
      ]
    },
    {
      "cell_type": "markdown",
      "source": [
        "# USACO 2017 US Open Contest, Bronze: Problem 1. The Lost Cow\n",
        "\n",
        "Farmer John has lost his prize cow Bessie, and he needs to find her!\n",
        "Fortunately, there is only one long path running across the farm, and Farmer John knows that Bessie has to be at some location on this path. If we think of the path as a number line, then Farmer John is currently at position x\n",
        " and Bessie is currently at position y (unknown to Farmer John). If Farmer John only knew where Bessie was located, he could walk directly to her, traveling a distance of |x−y|. Unfortunately, it is dark outside and Farmer John can't see anything. The only way he can find Bessie is to walk back and forth until he eventually reaches her position.\n",
        "\n",
        "Trying to figure out the best strategy for walking back and forth in his search, Farmer John consults the computer science research literature and is somewhat amused to find that this exact problem has not only been studied by computer scientists in the past, but that it is actually called the \"Lost Cow Problem\" (this is actually true!).\n",
        "\n",
        "The recommended solution for Farmer John to find Bessie is to move to position x+1\n",
        ", then reverse direction and move to position x−2\n",
        ", then to position x+4\n",
        ", and so on, in a \"zig zag\" pattern, each step moving twice as far from his initial starting position as before. As he has read during his study of algorithms for solving the lost cow problem, this approach guarantees that he will at worst travel 9 times the direct distance |x−y|\n",
        " between himself and Bessie before he finds her (this is also true, and the factor of 9 is actually the smallest such worst case guarantee any strategy can achieve).\n",
        "\n",
        "Farmer John is curious to verify this result. Given x\n",
        " and y\n",
        ", please compute the total distance he will travel according to the zig-zag search strategy above until he finds Bessie.\n",
        "\n",
        "**INPUT FORMAT (file lostcow.in):**\n",
        "\n",
        "The single line of input contains two distinct space-separated integers x\n",
        " and y. Both are in the range 0…1,000.\n",
        "\n",
        "**OUTPUT FORMAT (file lostcow.out):**\n",
        "\n",
        "Print one line of output, containing the distance Farmer John will travel to reach Bessie.\n",
        "\n",
        "**SAMPLE INPUT:**\n",
        "\n",
        "3 6\n",
        "\n",
        "**SAMPLE OUTPUT:**\n",
        "\n",
        "9\n",
        "\n",
        "Problem credits: Brian Dean"
      ],
      "metadata": {
        "id": "QrslFGFd6AmN"
      }
    },
    {
      "cell_type": "markdown",
      "source": [
        "## solution\n",
        "     In this question, we need know the end position as the sequence of [x+1, x-2,x+4,x-8, ...], in each step, we need to record the end position as\n",
        "     the start position for the next step."
      ],
      "metadata": {
        "id": "2RoniFa2EQrx"
      }
    },
    {
      "cell_type": "code",
      "source": [
        "import sys\n",
        "\n",
        "file_in = open(\"/content/drive/My Drive/Colab Notebooks/Files/lostcow.in\")\n",
        "data = file_in.read().strip().split(\"\\n\")\n",
        "x, y = map(int, data[0].split(\" \"))\n",
        "\n",
        "# initialize variables\n",
        "total_distance = 0\n",
        "start = x\n",
        "i = 0\n",
        "\n",
        "while True:\n",
        "\t# We know that the sequence of x is [x+1, x-2, x+4, x-8, ...]\n",
        "\t# step is (-2)**i, where i starts from 0\n",
        "\tstep = (-2) ** i\n",
        "\t# get next end location\n",
        "\t# Note: always starts from location x\n",
        "\tend = x + step\n",
        "\t# if from start to end John walks through y position, found Bessie!\n",
        "\tif (start < y <= end) or (start > y >= end):\n",
        "\t\t# calculate the new distance from y to start\n",
        "\t\ttotal_distance += abs(y - start)\n",
        "\t\tbreak\n",
        "\telse:\n",
        "\t\t# didn't walk through Bessie\n",
        "\t\t# calculate the new distance from end to start\n",
        "\t\ttotal_distance += abs(end - start)\n",
        "\tstart = end\n",
        "\t# increase i\n",
        "\ti += 1\n",
        "\n",
        "# output\n",
        "print(total_distance)\n",
        "\n",
        "# Add the answer to the output file using python standard file I/O system\n",
        "file_out = open(\"/content/drive/My Drive/Colab Notebooks/Files/lostcow.out\", \"w\")\n",
        "file_out.write(str(total_distance))\n",
        "file_out.close()"
      ],
      "metadata": {
        "id": "vNSLeaiR_QUi"
      },
      "execution_count": null,
      "outputs": []
    },
    {
      "cell_type": "markdown",
      "source": [
        "# USACO 2017 December Contest, Bronze : Problem 2. The Bovine Shuffle\n",
        "\n",
        "Convinced that happy cows generate more milk, Farmer John has installed a giant disco ball in his barn and plans to teach his cows to dance!\n",
        "\n",
        "Looking up popular cow dances, Farmer John decides to teach his cows the \"Bovine Shuffle\". The Bovine Shuffle consists of his N cows (1≤N≤100) lining up in a row in some order, then performing three \"shuffles\" in a row, after which they will be lined up in some possibly different order. To make it easier for his cows to locate themselves, Farmer John marks the locations for his line of cows with positions 1…N, so the first cow in the lineup will be in position 1, the next in position 2, and so on, up to position N.\n",
        "\n",
        "A shuffle is described with N numbers, a1…aN, where the cow in position i\n",
        " moves to position ai during the shuffle (and so, each ai is in the range 1…N\n",
        "). Every cow moves to its new location during the shuffle. Fortunately, all the ai's are distinct, so no two cows try to move to the same position during a shuffle.\n",
        "\n",
        "Farmer John's cows are each assigned distinct 7-digit integer ID numbers. If you are given the ordering of the cows after three shuffles, please determine their initial order.\n",
        "\n",
        "**INPUT FORMAT (file shuffle.in):**\n",
        "\n",
        "The first line of input contains N, the number of cows. The next line contains the N integers a1…aN. The final line contains the order of the N cows after three shuffles, with each cow specified by its ID number.\n",
        "\n",
        "**OUTPUT FORMAT (file shuffle.out):**\n",
        "\n",
        "You should write N lines of output, with a single cow ID per line, specifying the order of the cows before the three shuffles.\n",
        "\n",
        "**SAMPLE INPUT:**\n",
        "\n",
        "5\n",
        "\n",
        "1 3 4 5 2\n",
        "\n",
        "1234567 2222222 3333333 4444444 5555555\n",
        "\n",
        "**SAMPLE OUTPUT:**\n",
        "\n",
        "1234567\n",
        "\n",
        "5555555\n",
        "\n",
        "2222222\n",
        "\n",
        "3333333\n",
        "\n",
        "4444444\n",
        "\n",
        "Problem credits: Brian Dean"
      ],
      "metadata": {
        "id": "83GDmFdNFESQ"
      }
    },
    {
      "cell_type": "markdown",
      "source": [
        "## solution for Bovin Shuffle\n"
      ],
      "metadata": {
        "id": "-9s7mW-iMGQo"
      }
    },
    {
      "cell_type": "code",
      "source": [
        "SHUFFLE_NUM = 3\n",
        "\n",
        "with open(\"shuffle.in\") as read:\n",
        "\tn = int(read.readline())\n",
        "\tshuffle = list(map(int, read.readline().split()))\n",
        "\tids = list(map(int, read.readline().split()))\n",
        "\n",
        "for _ in range(SHUFFLE_NUM):\n",
        "\tpast_order = [0] * n\n",
        "\tfor i in range(n):\n",
        "\t\t# -1 because the shuffle input starts from 1\n",
        "\t\tpast_order[i] = ids[shuffle[i] - 1]\n",
        "\tids = past_order.copy()\n",
        "\n",
        "with open(\"shuffle.out\", \"w\") as written:\n",
        "\tfor i in past_order:\n",
        "\t\tprint(i, file=written)"
      ],
      "metadata": {
        "id": "U8BpBp87MKYG"
      },
      "execution_count": null,
      "outputs": []
    },
    {
      "cell_type": "markdown",
      "source": [
        "# USACO 2018 December Contest, Bronze: Problem 2. The Bucket List\n",
        "\n",
        "Farmer John is considering a change in how he allocates buckets for milking his cows. He thinks this will ultimately allow him to use a small number of total buckets, but he is not sure how many exactly. Please help him out!\n",
        "Farmer John has N cows (1≤N≤100), conveniently numbered 1…N. The ith cow needs to be milked from time si to time ti, and requires bi buckets to be used during the milking process. Several cows might end up being milked at the same time; if so, they cannot use the same buckets. That is, a bucket assigned to cow i's milking cannot be used for any other cow's milking between time si and time ti\n",
        ". The bucket can be used for other cows outside this window of time, of course. To simplify his job, FJ has made sure that at any given moment in time, there is at most one cow whose milking is starting or ending (that is, the si's and ti\n",
        "'s are all distinct).\n",
        "\n",
        "FJ has a storage room containing buckets that are sequentially numbered with labels 1, 2, 3, and so on. In his current milking strategy, whenever some cow (say, cow i) starts milking (at time si), FJ runs to the storage room and collects the bi buckets with the smallest available labels and allocates these for milking cow i.\n",
        "\n",
        "Please determine how many total buckets FJ would need to keep in his storage room in order to milk all the cows successfully.\n",
        "\n",
        "**INPUT FORMAT (file blist.in):**\n",
        "\n",
        "The first line of input contains N. The next N lines each describe one cow, containing the numbers si, ti, and bi, separated by spaces. Both si and ti\n",
        "are integers in the range 1…1000, and bi is an integer in the range 1…10.\n",
        "\n",
        "**OUTPUT FORMAT (file blist.out):**\n",
        "\n",
        "Output a single integer telling how many total buckets FJ needs.\n",
        "\n",
        "**SAMPLE INPUT:**\n",
        "\n",
        "3\n",
        "\n",
        "4 10 1\n",
        "\n",
        "8 13 3\n",
        "\n",
        "2 6 2\n",
        "\n",
        "**SAMPLE OUTPUT:**\n",
        "\n",
        "4\n",
        "\n",
        "In this example, FJ needs 4 buckets: He uses buckets 1 and 2 for milking cow 3 (starting at time 2). He uses bucket 3 for milking cow 1 (starting at time 4). When cow 2 arrives at time 8, buckets 1 and 2 are now available, but not bucket 3, so he uses buckets 1, 2, and 4.\n",
        "\n",
        "Problem credits: Brian Dean"
      ],
      "metadata": {
        "id": "osabsEf0QNws"
      }
    },
    {
      "cell_type": "markdown",
      "source": [
        "## solution\n",
        ""
      ],
      "metadata": {
        "id": "UhGRpOppTOIc"
      }
    },
    {
      "cell_type": "code",
      "source": [
        "MAX_TIME = 1000\n",
        "\n",
        "with open(\"blist.in\") as read:\n",
        "\tn = int(read.readline())\n",
        "\tcows = [[int(i) for i in read.readline().split()] for _ in range(n)]\n",
        "\n",
        "# The maximum number of buckets needed\n",
        "max_buckets = 0\n",
        "\n",
        "\"\"\"\n",
        "For each possible time, check how many buckets are needed at that time\n",
        "and update the maximum accordingly\n",
        "\"\"\"\n",
        "for t in range(1, MAX_TIME + 1):\n",
        "\tcurr_buckets = 0\n",
        "\tfor c in cows:\n",
        "\t\tif c[0] <= t <= c[1]:\n",
        "\t\t\tcurr_buckets += c[2]\n",
        "\tmax_buckets = max(max_buckets, curr_buckets)\n",
        "\n",
        "print(max_buckets, file=open(\"blist.out\", \"w\"))"
      ],
      "metadata": {
        "id": "GFBaPen5TQG9"
      },
      "execution_count": null,
      "outputs": []
    }
  ]
}